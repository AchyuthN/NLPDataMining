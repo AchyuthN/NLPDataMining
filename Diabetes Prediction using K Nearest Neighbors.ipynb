{
  "cells": [
    {
      "metadata": {
        "trusted": true,
        "_uuid": "58ad7af2b8c80631e2cb59790c8474f4ac7e83dd"
      },
      "cell_type": "code",
      "source": "",
      "execution_count": null,
      "outputs": []
    },
    {
      "metadata": {
        "_uuid": "8f2839f25d086af736a60e9eeb907d3b93b6e0e5",
        "_cell_guid": "b1076dfc-b9ad-4769-8c92-a6c4dae69d19",
        "trusted": true
      },
      "cell_type": "code",
      "source": "# This Python 3 environment comes with many helpful analytics libraries installed\n# It is defined by the kaggle/python docker image: https://github.com/kaggle/docker-python\n# For example, here's several helpful packages to load in \n\nimport numpy as np # linear algebra\nimport pandas as pd # data processing, CSV file I/O (e.g. pd.read_csv)\nfrom sklearn.model_selection import train_test_split\nfrom sklearn.preprocessing import StandardScaler\nfrom sklearn.neighbors import KNeighborsClassifier\nfrom sklearn.metrics import confusion_matrix\nfrom sklearn.metrics import f1_score\nfrom sklearn.metrics import accuracy_score\n\n\n# Input data files are available in the \"../input/\" directory.\ndf = pd.read_csv('../input/diabetes.csv')\n# For example, running this (by clicking run or pressing Shift+Enter) will list the files in the input directory\n\nimport os\nprint(os.listdir(\"../input\"))\n\n# Any results you write to the current directory are saved as output.",
      "execution_count": null,
      "outputs": []
    },
    {
      "metadata": {
        "_cell_guid": "79c7e3d0-c299-4dcb-8224-4455121ee9b0",
        "_uuid": "d629ff2d2480ee46fbb7e2d37f6b5fab8052498a",
        "trusted": true
      },
      "cell_type": "code",
      "source": "df.shape",
      "execution_count": null,
      "outputs": []
    },
    {
      "metadata": {
        "trusted": true,
        "_uuid": "32115f8368a114c53e14b14ac24b55753682288f"
      },
      "cell_type": "code",
      "source": "df.head()",
      "execution_count": null,
      "outputs": []
    },
    {
      "metadata": {
        "trusted": true,
        "_uuid": "7b613a9cbfd829acc23b7d0dfaaa3cde6d0255dd"
      },
      "cell_type": "code",
      "source": "no_zeros = ['Glucose', 'BloodPressure', 'SkinThickness', 'Insulin', 'BMI']\nfor i in no_zeros:\n    df[i] = df[i].replace(0, np.NaN)\n    mean = int(df[i].mean(skipna = True))\n    df[i] = df[i].replace(np.NaN, mean)",
      "execution_count": null,
      "outputs": []
    },
    {
      "metadata": {
        "trusted": true,
        "_uuid": "4decf172bb67f6b14bfbda700ddcce3a6e2c5f7d"
      },
      "cell_type": "code",
      "source": "X = df.iloc[:, 0:8]\ny = df.iloc[:, 8]\nX_train, X_test, y_train, y_test = train_test_split(X, y, random_state = 0)",
      "execution_count": null,
      "outputs": []
    },
    {
      "metadata": {
        "trusted": true,
        "_uuid": "8cab40c6036ac99bb59892e1a903d173925e0de0"
      },
      "cell_type": "code",
      "source": "scale_X = StandardScaler()\nX_train = scale_X.fit_transform(X_train)\nX_test = scale_X.transform(X_test)",
      "execution_count": null,
      "outputs": []
    },
    {
      "metadata": {
        "trusted": true,
        "_uuid": "cb010825721e2ec644ecdf30ca9f52d1bd3912c2"
      },
      "cell_type": "code",
      "source": "classifier = KNeighborsClassifier(n_neighbors = 5, p = 2, metric = 'euclidean')",
      "execution_count": null,
      "outputs": []
    },
    {
      "metadata": {
        "trusted": true,
        "_uuid": "ba616cb42e8462d6c98e2c3670dd573e9d5733ee"
      },
      "cell_type": "code",
      "source": "classifier.fit(X_train, y_train)",
      "execution_count": null,
      "outputs": []
    },
    {
      "metadata": {
        "trusted": true,
        "_uuid": "631fd7a213fca95dbb566981a8ba77f32a64525d"
      },
      "cell_type": "code",
      "source": "prediction = classifier.predict(X_test)",
      "execution_count": null,
      "outputs": []
    },
    {
      "metadata": {
        "trusted": true,
        "_uuid": "ca65ad427a3b87055e51e69029c52e97206d5ff7"
      },
      "cell_type": "code",
      "source": "prediction",
      "execution_count": null,
      "outputs": []
    },
    {
      "metadata": {
        "_kg_hide-output": true,
        "trusted": true,
        "_uuid": "d9a51f9a921790927ab7e28d3534918b366555dc"
      },
      "cell_type": "code",
      "source": "cm = confusion_matrix(y_test, prediction)\ncm",
      "execution_count": null,
      "outputs": []
    },
    {
      "metadata": {
        "trusted": true,
        "_uuid": "4c6ffd66c9c834cb069bfa963e058c331dd393d0"
      },
      "cell_type": "code",
      "source": "f1_score(y_test, prediction)",
      "execution_count": null,
      "outputs": []
    },
    {
      "metadata": {
        "trusted": true,
        "_uuid": "d69e1e0e6dd62204a98e83b91fdf71f1896b1f3b"
      },
      "cell_type": "code",
      "source": "accuracy_score(y_test, prediction)",
      "execution_count": null,
      "outputs": []
    },
    {
      "metadata": {
        "trusted": true,
        "_uuid": "4a53e05b0be7dec0226e9532cfd9683247cf6b37"
      },
      "cell_type": "code",
      "source": "",
      "execution_count": null,
      "outputs": []
    }
  ],
  "metadata": {
    "kernelspec": {
      "display_name": "Python 3",
      "language": "python",
      "name": "python3"
    },
    "language_info": {
      "name": "python",
      "version": "3.6.6",
      "mimetype": "text/x-python",
      "codemirror_mode": {
        "name": "ipython",
        "version": 3
      },
      "pygments_lexer": "ipython3",
      "nbconvert_exporter": "python",
      "file_extension": ".py"
    }
  },
  "nbformat": 4,
  "nbformat_minor": 1
}